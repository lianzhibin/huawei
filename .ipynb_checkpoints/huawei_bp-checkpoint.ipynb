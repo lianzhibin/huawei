{
 "cells": [
  {
   "cell_type": "code",
   "execution_count": 2,
   "metadata": {
    "collapsed": true
   },
   "outputs": [],
   "source": [
    "import random\n",
    "import numpy as np"
   ]
  },
  {
   "cell_type": "code",
   "execution_count": 37,
   "metadata": {
    "collapsed": true
   },
   "outputs": [],
   "source": [
    "def sigmoid(z):\n",
    "    return 1.0/(1.0+np.exp(-z))\n",
    "\n",
    "def sigmoid_prime(z):\n",
    "    return sigmoid(z)*(1-sigmoid(z))"
   ]
  },
  {
   "cell_type": "code",
   "execution_count": null,
   "metadata": {
    "collapsed": false
   },
   "outputs": [],
   "source": [
    "class Network(object):\n",
    "    def __init__(self, sizes):\n",
    "        self.num_layers = len(sizes)\n",
    "        self.sizes = sizes\n",
    "        self.biases = []\n",
    "        for i in sizes[1:]:\n",
    "            bias = []\n",
    "            for j in range(i):\n",
    "                bias.append(random.normalvariate(0,1)) # using a guassian distribution with mean 0 and variance 1\n",
    "            self.biases.append(bias)\n",
    "        self.weights = []\n",
    "        weight = []\n",
    "        for x, y in zip(sizes[:-1], sizes[1:]):\n",
    "            row = []\n",
    "            for i in range(y):\n",
    "                col = []\n",
    "                for j in range(x):\n",
    "                    col.append(random.normalvariate(0, 1))\n",
    "                row.append(col)\n",
    "            self.weights.append(row)\n",
    "            \n",
    "    def feedforward(self, a):\n",
    "        for b, w in zip(self.biases, self.weight):\n",
    "            # load storage for activation\n",
    "            activations = []\n",
    "            for i in range(len(b)):\n",
    "                activation = []\n",
    "                for j in range(len(a[0][:])):\n",
    "                    activation.append(0)\n",
    "                activations.append(activation)\n",
    "            \n",
    "            # \n",
    "            for i, w_col in enumerate(w):\n",
    "                for a_col in range(len(a[0][:])):\n",
    "                    plus_sum = 0\n",
    "                    for a_row in range(len(w_col)):\n",
    "                        plus_sum += w_col[a_row]*a[a_row][a_col]\n",
    "                        \n",
    "                    activations[i][a_col] += plus_sum\n",
    "                    \n",
    "            for i in range(len(activations[:])):\n",
    "                for j in range(len(activations[0][:])):\n",
    "                    activations[i][j] = sigmoid(activations[i][j])\n",
    "                    \n",
    "            return activations\n",
    "    \n",
    "    def SGD(self, training_data, epoches, mini_batch_size, eta, test_data = None):\n",
    "        if test_data:\n",
    "            n_test = len(test_data)\n",
    "            n = len(training_data)\n",
    "            for j in range(epochs):\n",
    "                random.shuffle(training_data)\n",
    "                mini_batches = [\n",
    "                    training_data[k:k+mini_batch_size]\n",
    "                    for k in range(0, n, mini_batch_size)]\n",
    "                for mini_batch in mini_batches:\n",
    "                self.update_mini_batch(mini_batch, eta)\n",
    "                if test_data:\n",
    "                    print \"Epoch {0}: {1} / {2}\".format(\n",
    "                        j, self.evaluate(test_data), n_test)\n",
    "                else:\n",
    "                    print \"Epoch {0} complete\".format(j)\n",
    "\n",
    "    def update_mini_batch(self, mini_batch, eta):\n",
    "        # load storage for nabla_b nabla_w\n",
    "        nabla_b = []\n",
    "        nabla_w = []\n",
    "        for b in self.biases:\n",
    "            bias = []\n",
    "            for i in range(len(b)):\n",
    "                bias.append(0)\n",
    "            nabla_b.append(bias)\n",
    "        for w in self.weights:\n",
    "            row = []\n",
    "            for row in range(len(w)):\n",
    "                col = []\n",
    "                for col in range(len(w[0])):\n",
    "                    col.append(0)\n",
    "                row.append(col)\n",
    "            nabla_w.append(row)\n",
    "            \n",
    "        # bp compute \n",
    "        for x, y in mini_batch:\n",
    "            delta_nabla_b, delta_nabla_w = self.backprop(x, y)\n",
    "            for row in range(len(delta_nabla_b)):\n",
    "                for col in range(len(delta_nabla_b[0])):\n",
    "                    nabla_b += delta_nabla_b[row][col]\n",
    "                    \n",
    "        for layer in range(len(delta_nabla_w)):\n",
    "            for row in range(len(delta_nabla_w[0])):\n",
    "                for col in range(len(delta_nabla_w[0][0])):\n",
    "                    nabla_w[layer][row][col] += delta_nabla_w[layer][row][col]\n",
    "        \n",
    "        # update w and b\n",
    "        for row in range(delta_nabla_b):\n",
    "            for col in range(delta_nabla_b[0]):\n",
    "                self.biases[row][col] = self.biases[row][col] - (eta/len(mini_batch))*delta_nabla_b[row][col]\n",
    "                \n",
    "        for layer in range(len(delta_nabla_w)):\n",
    "            for row in range(len(delta_nabla_w[0])):\n",
    "                for col in range(len(delta_nabla_w[0][0])):\n",
    "                    self.weights[layer][row][col] = self.weights[layer][row][col] - (eta/len(mini_batch))*delta_nabla_w[layer][row][col]\n",
    "        \n",
    "    \n",
    "    def backprop(self, x, y):\n",
    "        # load storage for nabla_b nabla_w\n",
    "        nabla_b = []\n",
    "        nabla_w = []\n",
    "        for b in self.biases:\n",
    "            bias = []\n",
    "            for i in range(len(b)):\n",
    "                bias.append(0)\n",
    "            nabla_b.append(bias)\n",
    "        for w in self.weights:\n",
    "            row = []\n",
    "            for row in range(len(w)):\n",
    "                col = []\n",
    "                for col in range(len(w[0])):\n",
    "                    col.append(0)\n",
    "                row.append(col)\n",
    "            nabla_w.append(row)\n",
    "        \n",
    "        # feedforward\n",
    "        activation = x # \n",
    "        activations = [x] # \n",
    "        zs = [] #\n",
    "        \n",
    "        for b, w in zip(self.biases, self.weights):\n",
    "            z = []\n",
    "            for w_row in range(len(w)):\n",
    "                z_sum = 0\n",
    "                for w_col in range(len(w[0])):\n",
    "                    z_sum += w[w_row][w_col]*activation[w_col]  \n",
    "                activation[w_col] = sigmoid(z_sum + b[w_row])\n",
    "                z.append(z_sum)\n",
    "                activations.append(activation)\n",
    "            zs.append(z)\n",
    "        \n",
    "        # backward pass\n",
    "        # initialization\n",
    "        delta = self.cost_derivative(activations[-1], y) * sigmoid_prime(zs[-1][0])\n",
    "        nabla_b[-1][0] = delta\n",
    "        for i in range(len(nabla_w[-1])):\n",
    "            nabla_w[-1][i] = delta * activations[-2][i]\n",
    "        \n",
    "        z = zs[0]\n",
    "        w = self.weights[0]\n",
    "        b = self.biases[0]\n",
    "        activation = activations[0]\n",
    "        for i in range(len(z)):\n",
    "            sp = sigmoid_prime(z[i])\n",
    "            delta = delta*self.weights[-1][i]*sp\n",
    "            nabla_b[0][i] = delta\n",
    "            for j in range(len(w[i])):\n",
    "                w[i][j] = delta*activation[j]\n",
    "        \n",
    "        \n",
    "        return nabla_b, nabla_w\n",
    "                \n",
    "                \n",
    "    def cost_derivative(self, output_activations, y):\n",
    "        return output_activations - y\n",
    "            \n",
    "        "
   ]
  },
  {
   "cell_type": "code",
   "execution_count": 39,
   "metadata": {
    "collapsed": false
   },
   "outputs": [
    {
     "name": "stdout",
     "output_type": "stream",
     "text": [
      "num_lyers 3\n",
      "sizes [2, 3, 1]\n",
      "biases [[0.3136151086017989, -0.9122345572748317, 1.0197929133010748], [0.7405629148534872]]\n",
      "weight [[[0.27413635865047253, 1.7816434819105802], [0.10477069505515149, 0.22159893944248585], [-1.3535738028265307, 0.5548549279188865]], [[0.6182975632480122, -0.8184378096645144, -0.04042369345630952]]]\n"
     ]
    }
   ],
   "source": [
    "network = Network([2,3,1])\n",
    "print('num_lyers', network.num_layers)\n",
    "print('sizes', network.sizes)\n",
    "print('biases', network.biases)\n",
    "print('weight', network.weights)"
   ]
  },
  {
   "cell_type": "code",
   "execution_count": 20,
   "metadata": {
    "collapsed": false
   },
   "outputs": [
    {
     "data": {
      "text/plain": [
       "0.4102644554342979"
      ]
     },
     "execution_count": 20,
     "metadata": {},
     "output_type": "execute_result"
    }
   ],
   "source": [
    "random.normalvariate(0,1)"
   ]
  },
  {
   "cell_type": "code",
   "execution_count": 16,
   "metadata": {
    "collapsed": false
   },
   "outputs": [
    {
     "data": {
      "text/plain": [
       "array([[-0.03286934, -0.07088019]])"
      ]
     },
     "execution_count": 16,
     "metadata": {},
     "output_type": "execute_result"
    }
   ],
   "source": [
    "np.random.randn(1,2)"
   ]
  },
  {
   "cell_type": "code",
   "execution_count": 45,
   "metadata": {
    "collapsed": false
   },
   "outputs": [
    {
     "data": {
      "text/plain": [
       "5"
      ]
     },
     "execution_count": 45,
     "metadata": {},
     "output_type": "execute_result"
    }
   ],
   "source": [
    "a = [[1,2],[1,2,3,4,5], [1,2, 3]]\n",
    "len(a[1])"
   ]
  },
  {
   "cell_type": "code",
   "execution_count": null,
   "metadata": {
    "collapsed": true
   },
   "outputs": [],
   "source": []
  }
 ],
 "metadata": {
  "kernelspec": {
   "display_name": "Python 3",
   "language": "python",
   "name": "python3"
  },
  "language_info": {
   "codemirror_mode": {
    "name": "ipython",
    "version": 3
   },
   "file_extension": ".py",
   "mimetype": "text/x-python",
   "name": "python",
   "nbconvert_exporter": "python",
   "pygments_lexer": "ipython3",
   "version": "3.6.0"
  }
 },
 "nbformat": 4,
 "nbformat_minor": 2
}
